{
  "cells": [
    {
      "cell_type": "markdown",
      "metadata": {
        "id": "hoN76TqPtpPF"
      },
      "source": [
        "## Importing necessary libraries"
      ]
    },
    {
      "cell_type": "code",
      "execution_count": null,
      "metadata": {
        "id": "zczdsF_JtpPI"
      },
      "outputs": [
        {
          "ename": "",
          "evalue": "",
          "output_type": "error",
          "traceback": [
            "\u001b[1;31mFailed to start the Kernel. \n",
            "\u001b[1;31mRedirection is not supported. \n",
            "\u001b[1;31mView Jupyter <a href='command:jupyter.viewOutput'>log</a> for further details."
          ]
        }
      ],
      "source": [
        "import pandas as pd\n",
        "import numpy as np\n",
        "import seaborn as sns\n",
        "import matplotlib.pyplot as plt\n",
        "import warnings\n",
        "warnings.filterwarnings('ignore')\n",
        "\n",
        "from sklearn.preprocessing import LabelEncoder\n",
        "from sklearn.model_selection import train_test_split\n",
        "from sklearn.linear_model import LogisticRegression\n",
        "from sklearn.naive_bayes import GaussianNB\n",
        "from sklearn.tree import DecisionTreeClassifier\n",
        "from sklearn.ensemble import RandomForestClassifier\n",
        "from sklearn.neighbors import KNeighborsClassifier\n",
        "from sklearn.svm import SVC\n",
        "import xgboost as xgb\n",
        "\n",
        "from sklearn import metrics\n",
        "from sklearn.metrics import accuracy_score, auc, confusion_matrix, roc_auc_score, roc_curve, recall_score"
      ]
    },
    {
      "cell_type": "code",
      "execution_count": null,
      "metadata": {
        "colab": {
          "base_uri": "https://localhost:8080/"
        },
        "id": "uDV70v7etpPK",
        "outputId": "7df4d796-b11b-441c-fd5d-0061319fa506"
      },
      "outputs": [],
      "source": [
        "!pip install xgboost\n"
      ]
    },
    {
      "cell_type": "code",
      "execution_count": null,
      "metadata": {
        "id": "YkhmdvoJtpPM"
      },
      "outputs": [],
      "source": [
        "df=pd.read_csv(\"Churn Modeling.csv\")\n",
        "# Reading dataset"
      ]
    },
    {
      "cell_type": "code",
      "execution_count": null,
      "metadata": {
        "id": "KFnjCuzYtpPM",
        "outputId": "54ddd9c1-e2fd-4e8b-8d2e-f96bf81ac1ad"
      },
      "outputs": [],
      "source": [
        "df\n",
        "# loading dataset"
      ]
    },
    {
      "cell_type": "markdown",
      "metadata": {
        "id": "rTO_1py8tpPN"
      },
      "source": [
        "## Data Understanding"
      ]
    },
    {
      "cell_type": "code",
      "execution_count": null,
      "metadata": {
        "id": "ohZKGRhrtpPN",
        "outputId": "8a1dbc2c-8551-423c-f979-c4e4b6b1c97d"
      },
      "outputs": [],
      "source": [
        "df.shape\n",
        "# There are 10,000 rows and 14 columns"
      ]
    },
    {
      "cell_type": "code",
      "execution_count": null,
      "metadata": {
        "id": "wpgs5-hjtpPO",
        "outputId": "c01e546c-b87d-4850-9a86-89c4eaf22d26"
      },
      "outputs": [],
      "source": [
        "df.info()\n",
        "# Checking the information of the data"
      ]
    },
    {
      "cell_type": "code",
      "execution_count": null,
      "metadata": {
        "id": "FkWdUVXttpPO",
        "outputId": "502c67b2-0a4e-4140-fa6f-06b6127ba5c3"
      },
      "outputs": [],
      "source": [
        "df.isnull().sum()\n",
        "# There are no null values in the dataset"
      ]
    },
    {
      "cell_type": "code",
      "execution_count": null,
      "metadata": {
        "id": "WBGeLFfxtpPP",
        "outputId": "7456ab83-45f4-4f32-c0ce-750ef94939a7"
      },
      "outputs": [],
      "source": [
        "df['Exited'].value_counts()\n",
        "# As it can be seen this dataset's targer column is imbalanced there are 7963 zero's and 2037 one's"
      ]
    },
    {
      "cell_type": "code",
      "execution_count": null,
      "metadata": {
        "id": "Qjz4NH7utpPQ",
        "outputId": "76496af7-a871-4527-ebdf-c3ff74f9c5dc",
        "scrolled": true
      },
      "outputs": [],
      "source": [
        "df.describe()\n",
        "# The describe function will display all the decriptive statistics of the data including mean, std, min, max values."
      ]
    },
    {
      "cell_type": "code",
      "execution_count": null,
      "metadata": {
        "id": "O0PNh1KttpPQ",
        "outputId": "c4c84893-cb46-4522-9a1b-137764e7ac61"
      },
      "outputs": [],
      "source": [
        "df.nunique()\n",
        "# The nunique() function is used to count distinct observations over requested axis. Return Series with number of distinct observations."
      ]
    },
    {
      "cell_type": "code",
      "execution_count": null,
      "metadata": {
        "id": "2SeHvxuytpPQ",
        "outputId": "a141f462-f0d0-4802-d079-f91c24c24fea"
      },
      "outputs": [],
      "source": [
        "df.columns\n",
        "# Displaying the column names of the dataset."
      ]
    },
    {
      "cell_type": "markdown",
      "metadata": {
        "id": "4VwrRoh4tpPR"
      },
      "source": [
        "## Data Visualization"
      ]
    },
    {
      "cell_type": "code",
      "execution_count": null,
      "metadata": {
        "id": "IQ-fndettpPR",
        "outputId": "238a3d8b-68f0-4396-9d02-85a4c1b47d27"
      },
      "outputs": [],
      "source": [
        "sns.pairplot(data=df)\n",
        "# Displaying scatter plots"
      ]
    },
    {
      "cell_type": "code",
      "execution_count": null,
      "metadata": {
        "id": "JqC7ELZYtpPR",
        "outputId": "3e5b2b60-f0e7-4b47-da37-cf4d8f11f3e9"
      },
      "outputs": [],
      "source": [
        "df.columns\n",
        "# Displaying column names"
      ]
    },
    {
      "cell_type": "code",
      "execution_count": null,
      "metadata": {
        "id": "AsB0n-sMtpPS",
        "outputId": "3d635726-afdc-4844-c8d6-a02348347a4b"
      },
      "outputs": [],
      "source": [
        "df.head(5)\n",
        "# Displaying the head of the dataset"
      ]
    },
    {
      "cell_type": "code",
      "execution_count": null,
      "metadata": {
        "id": "tsACLBnftpPS",
        "outputId": "e026aa66-a1b1-4181-854c-490967552f98"
      },
      "outputs": [],
      "source": [
        "plt.figure(figsize=(15, 8))\n",
        "plt.xticks(rotation=90)\n",
        "sns.barplot(x='Geography',y='EstimatedSalary',hue='Gender',color='teal',data=df);\n",
        "# Visualizing barplot where Geography is on x-axis and estimated salary is on y axis and key is gender"
      ]
    },
    {
      "cell_type": "code",
      "execution_count": null,
      "metadata": {
        "id": "Qx5_mrgrtpPS",
        "outputId": "b9d96980-a7c2-400c-f254-d2056e5e9232"
      },
      "outputs": [],
      "source": [
        "plt.figure(figsize=(15, 8))\n",
        "plt.xticks(rotation=90)\n",
        "sns.barplot(x='Age',y='EstimatedSalary',data=df);\n",
        "# Visualizing barplot where age is taken on x axis and estimated salary is taken on y axis"
      ]
    },
    {
      "cell_type": "code",
      "execution_count": null,
      "metadata": {
        "id": "Id_6sCZdtpPT",
        "outputId": "af144228-8b4f-436c-9149-34a50e5e0db3"
      },
      "outputs": [],
      "source": [
        "plt.figure(figsize=(15, 8))\n",
        "plt.xticks(rotation=90)\n",
        "sns.barplot(x='Age',y='Exited',color='teal',data=df);\n",
        "# Visualizing barplot where age is taken on x axis and exited in on y axis"
      ]
    },
    {
      "cell_type": "code",
      "execution_count": null,
      "metadata": {
        "id": "0USETsg1tpPT",
        "outputId": "026b2a3a-4a10-4e11-eed0-0302b5a81185"
      },
      "outputs": [],
      "source": [
        "plt.figure(figsize=(10, 8))\n",
        "plt.xticks(rotation=90)\n",
        "sns.barplot(x='Gender',y='EstimatedSalary',color='orange',data=df);\n",
        "# Visualizing barplot where gender is taken on x axis and estimated salary is taken on y axis"
      ]
    },
    {
      "cell_type": "code",
      "execution_count": null,
      "metadata": {
        "id": "9nQyhFamtpPT",
        "outputId": "8887a450-b7e6-4852-ddf7-eabe9d7a6e68"
      },
      "outputs": [],
      "source": [
        "plt.figure(figsize=(10, 8))\n",
        "plt.xticks(rotation=90)\n",
        "sns.barplot(x='Gender',y='Balance',color='teal',data=df);\n",
        "# Visualizing barplot where Gender is taken on x axis and Balance is taken on y axis"
      ]
    },
    {
      "cell_type": "code",
      "execution_count": null,
      "metadata": {
        "id": "ha6FvtW7tpPU",
        "outputId": "f1b9d2c2-5965-4d34-8dea-328adfc9fb86"
      },
      "outputs": [],
      "source": [
        "plt.figure(figsize=(15, 8))\n",
        "plt.xticks(rotation=90)\n",
        "sns.barplot(x='Age',y='EstimatedSalary',hue='Gender',data=df);\n",
        "# Visualizing barplot where Age is taken on x axis and EstimatedSalary is taken on y axis"
      ]
    },
    {
      "cell_type": "code",
      "execution_count": null,
      "metadata": {
        "id": "7zA7kLIitpPU",
        "outputId": "66f7ddaf-da5a-4a2e-fb7f-42c41e135840",
        "scrolled": false
      },
      "outputs": [],
      "source": [
        "plt.figure(figsize=(15, 8))\n",
        "plt.xticks(rotation=90)\n",
        "sns.barplot(x='Age',y='NumOfProducts',data=df);\n",
        "# Visualizing barplot where Age is taken on x axis and NumOfProducts is taken on y axis"
      ]
    },
    {
      "cell_type": "code",
      "execution_count": null,
      "metadata": {
        "id": "uEwAUN1DtpPV",
        "outputId": "4a59d224-524b-4365-c458-cfbaa0093a9f"
      },
      "outputs": [],
      "source": [
        "plt.figure(figsize=(15, 8))\n",
        "plt.xticks(rotation=90)\n",
        "sns.barplot(x='NumOfProducts',y='EstimatedSalary',data=df);\n",
        "# Visualizing barplot where NumOfProducts is taken on x axis and EstimatedSalary is taken on y axis"
      ]
    },
    {
      "cell_type": "code",
      "execution_count": null,
      "metadata": {
        "id": "JvW3HZ2HtpPV",
        "outputId": "3ed82ec2-832d-45b9-db6b-daa39988c798"
      },
      "outputs": [],
      "source": [
        "plt.figure(figsize=(15, 8))\n",
        "plt.xticks(rotation=90)\n",
        "sns.barplot(x='Age',y='Tenure',hue='Gender',data=df);\n",
        "# Visualizing barplot where Age is taken on x axis and Tenure is taken on y axis and key is gender"
      ]
    },
    {
      "cell_type": "code",
      "execution_count": null,
      "metadata": {
        "id": "9UFyvdTBtpPW",
        "outputId": "22c483d7-52ef-4ee3-8a60-0aa3e7034c57"
      },
      "outputs": [],
      "source": [
        "plt.figure(figsize=(15, 8))\n",
        "plt.xticks(rotation=90)\n",
        "sns.barplot(x='IsActiveMember',y='Geography',hue='Gender',data=df);\n",
        "# Visualizing barplot where IsActiveMember is taken on x axis and Geography is taken on y axis and key is gender"
      ]
    },
    {
      "cell_type": "code",
      "execution_count": null,
      "metadata": {
        "id": "pBnxwIBXtpPW",
        "outputId": "37105a75-4be1-478a-b904-1358aaf658a9"
      },
      "outputs": [],
      "source": [
        "plt.figure(figsize=(15, 8))\n",
        "plt.xticks(rotation=90)\n",
        "sns.barplot(x='IsActiveMember',y='Exited',hue='Gender',data=df);\n",
        "# Visualizing barplot where IsActiveMember is taken on x axis and Exited is taken on y axis and key is gender"
      ]
    },
    {
      "cell_type": "code",
      "execution_count": null,
      "metadata": {
        "id": "qR8QURvXtpPW",
        "outputId": "6d95c33c-69cf-4d97-e12a-ef4a7424b850"
      },
      "outputs": [],
      "source": [
        "plt.figure(figsize=(15, 8))\n",
        "plt.xticks(rotation=90)\n",
        "sns.barplot(x='IsActiveMember',y='EstimatedSalary',hue='Gender',data=df);\n",
        "# Visualizing barplot where IsActiveMember is taken on x axis and EstimatedSalary is taken on y axis and key is gender"
      ]
    },
    {
      "cell_type": "code",
      "execution_count": null,
      "metadata": {
        "id": "lU__8_gitpPX",
        "outputId": "d6529d08-3201-4a18-8089-c88599b9c5a3"
      },
      "outputs": [],
      "source": [
        "plt.figure(figsize=(15, 8))\n",
        "plt.xticks(rotation=90)\n",
        "sns.barplot(x='HasCrCard',y='Exited',hue='Gender',data=df);\n",
        "# Visualizing barplot where HasCrCard is taken on x axis and Exited is taken on y axis and key is gender"
      ]
    },
    {
      "cell_type": "code",
      "execution_count": null,
      "metadata": {
        "id": "5yZEdxsEtpPX",
        "outputId": "1c5a2f9b-4c3d-4d2e-d4c3-8c7d57bb984b"
      },
      "outputs": [],
      "source": [
        "plt.figure(figsize=(15, 8))\n",
        "plt.xticks(rotation=90)\n",
        "sns.barplot(x='HasCrCard',y='Geography',hue='Gender',data=df);\n",
        "# Visualizing barplot where HasCrCard is taken on x axis and Geography is taken on y axis and key is gender"
      ]
    },
    {
      "cell_type": "markdown",
      "metadata": {
        "id": "ZZhCjgx1tpPX"
      },
      "source": [
        "## Label Encoding"
      ]
    },
    {
      "cell_type": "code",
      "execution_count": null,
      "metadata": {
        "id": "MQ7ACYuxtpPY",
        "outputId": "b14e83c1-b68b-45f8-8023-cb19bf5fb063"
      },
      "outputs": [],
      "source": [
        "cat_cols=['Geography','Gender']\n",
        "le=LabelEncoder()\n",
        "for i in cat_cols:\n",
        "    df[i]=le.fit_transform(df[i])\n",
        "df.dtypes\n",
        "# We convert categorical data into numeric data with the help of label encoding"
      ]
    },
    {
      "cell_type": "code",
      "execution_count": null,
      "metadata": {
        "id": "_3lLwWeItpPY",
        "outputId": "1f9b270c-2eab-4db2-deb5-61b1e8340362"
      },
      "outputs": [],
      "source": [
        "df.keys()\n",
        "# displaying columns"
      ]
    },
    {
      "cell_type": "code",
      "execution_count": null,
      "metadata": {
        "id": "2g2_CAIotpPY"
      },
      "outputs": [],
      "source": [
        "df.drop(['RowNumber'],axis=1,inplace=True)\n",
        "df.drop(['CustomerId'],axis=1,inplace=True)\n",
        "df.drop(['Surname'],axis=1,inplace=True)\n",
        "# dropping uneccessary columns and removing them from the dataset"
      ]
    },
    {
      "cell_type": "markdown",
      "metadata": {
        "id": "AJEf1_uYtpPZ"
      },
      "source": [
        "## DistributionPlot"
      ]
    },
    {
      "cell_type": "code",
      "execution_count": null,
      "metadata": {
        "id": "mPPMoBEOtpPZ",
        "outputId": "78e3428a-dcb6-40db-ca7d-24e6e1991d5c"
      },
      "outputs": [],
      "source": [
        "rows=2\n",
        "cols=5\n",
        "fig, ax=plt.subplots(nrows=rows,ncols=cols,figsize=(16,4))\n",
        "col=df.columns\n",
        "index=0\n",
        "for i in range(rows):\n",
        "    for j in range(cols):\n",
        "        sns.distplot(df[col[index]],ax=ax[i][j])\n",
        "        index=index+1\n",
        "\n",
        "plt.tight_layout()\n",
        "# Distribution plot will help us to check if the data is skewed or not"
      ]
    },
    {
      "cell_type": "code",
      "execution_count": null,
      "metadata": {
        "id": "D69wNOfCtpPZ",
        "outputId": "0b1f1bac-ef74-4fc9-ea41-edd02257f7b7"
      },
      "outputs": [],
      "source": [
        "X=df.drop(labels=['Exited'],axis=1)\n",
        "Y=df['Exited']\n",
        "X.head()\n",
        "# Splitting data into dependent and independent columns"
      ]
    },
    {
      "cell_type": "code",
      "execution_count": null,
      "metadata": {
        "id": "1axkn5qptpPa",
        "outputId": "9523f8c9-2248-4c2c-aeb0-028921f14ea5"
      },
      "outputs": [],
      "source": [
        "Y.head()\n",
        "# This is the target column"
      ]
    },
    {
      "cell_type": "code",
      "execution_count": null,
      "metadata": {
        "id": "dG_dDVXVtpPp",
        "outputId": "0a4efa0b-6aa2-4d71-ecd2-ae87ea2d49b1"
      },
      "outputs": [],
      "source": [
        "X_train,X_test,Y_train,Y_test=train_test_split(X,Y,test_size=0.2,random_state=40)\n",
        "print(X_train.shape,X_test.shape,Y_train.shape,Y_test.shape)\n",
        "# Splitting the data set into training and testing data"
      ]
    },
    {
      "cell_type": "markdown",
      "metadata": {
        "id": "Jhd4XyJ6tpPp"
      },
      "source": [
        "### Logistic Regression"
      ]
    },
    {
      "cell_type": "code",
      "execution_count": null,
      "metadata": {
        "id": "mwZG3rxotpPq",
        "outputId": "96b63318-8b46-4997-8d9e-390522072d53"
      },
      "outputs": [],
      "source": [
        "#fit the model on train data\n",
        "log_reg = LogisticRegression().fit(X_train, Y_train)\n",
        "\n",
        "#predict on train\n",
        "train_preds = log_reg.predict(X_train)\n",
        "#accuracy on train\n",
        "print(\"Model accuracy on train is: \", accuracy_score(Y_train, train_preds))\n",
        "\n",
        "#predict on test\n",
        "test_preds = log_reg.predict(X_test)\n",
        "#accuracy on test\n",
        "print(\"Model accuracy on test is: \", accuracy_score(Y_test, test_preds))\n",
        "print('-'*50)\n",
        "\n",
        "#We got good accuracy which means our model is performing quite well\n",
        "#ROC\n",
        "print(\"ROC score on train is: \", roc_auc_score(Y_train, train_preds))\n",
        "print(\"ROC score on test is: \", roc_auc_score(Y_test, test_preds))\n",
        "print('-'*50)\n",
        "\n",
        "#Confusion matrix\n",
        "print(\"confusion_matrix train is: \", confusion_matrix(Y_train, train_preds))\n",
        "print(\"confusion_matrix test is: \", confusion_matrix(Y_test, test_preds))\n",
        "print('Wrong predictions out of total')\n",
        "print('-'*50)\n",
        "\n",
        "# Wrong Predictions made.\n",
        "print((Y_test !=test_preds).sum(),'/',((Y_test == test_preds).sum()+(Y_test != test_preds).sum()))\n",
        "print('-'*50)\n",
        "\n",
        "# Kappa Score.\n",
        "print('KappaScore is: ', metrics.cohen_kappa_score(Y_test,test_preds))"
      ]
    },
    {
      "cell_type": "markdown",
      "metadata": {
        "id": "7iPDphA_tpPq"
      },
      "source": [
        "### Naive Bayes Classifier"
      ]
    },
    {
      "cell_type": "code",
      "execution_count": null,
      "metadata": {
        "id": "-vhkPcWJtpPr",
        "outputId": "a2ca6e15-049f-4cb3-a910-dcfdbfc4f564"
      },
      "outputs": [],
      "source": [
        "#fit the model on train data\n",
        "NB=GaussianNB()\n",
        "NB.fit(X_train,Y_train)\n",
        "\n",
        "#predict on train\n",
        "train_preds2 = NB.predict(X_train)\n",
        "#accuracy on train\n",
        "print(\"Model accuracy on train is: \", accuracy_score(Y_train, train_preds2))\n",
        "\n",
        "#predict on test\n",
        "test_preds2 = NB.predict(X_test)\n",
        "#accuracy on test\n",
        "print(\"Model accuracy on test is: \", accuracy_score(Y_test, test_preds2))\n",
        "print('-'*50)\n",
        "\n",
        "#We got good accuracy which means our model is performing quite well\n",
        "#ROC\n",
        "print(\"ROC score on train is: \", roc_auc_score(Y_train, train_preds2))\n",
        "print(\"ROC score on test is: \", roc_auc_score(Y_test, test_preds2))\n",
        "print('-'*50)\n",
        "\n",
        "#Confusion matrix\n",
        "print(\"confusion_matrix train is: \", confusion_matrix(Y_train, train_preds2))\n",
        "print(\"confusion_matrix test is: \", confusion_matrix(Y_test, test_preds2))\n",
        "print('Wrong predictions out of total')\n",
        "print('-'*50)\n",
        "\n",
        "# Wrong Predictions made.\n",
        "print((Y_test !=test_preds2).sum(),'/',((Y_test == test_preds2).sum()+(Y_test != test_preds2).sum()))\n",
        "print('-'*50)\n",
        "\n",
        "# Kappa Score\n",
        "print('KappaScore is: ', metrics.cohen_kappa_score(Y_test,test_preds2))"
      ]
    },
    {
      "cell_type": "markdown",
      "metadata": {
        "id": "DDjWVqq6tpPr"
      },
      "source": [
        "### Decision Tree Classifier"
      ]
    },
    {
      "cell_type": "code",
      "execution_count": null,
      "metadata": {
        "id": "rCAMn5octpPr",
        "outputId": "2bda5839-4e81-47bb-ac53-84985877460c"
      },
      "outputs": [],
      "source": [
        "#fit the model on train data\n",
        "DT = DecisionTreeClassifier().fit(X,Y)\n",
        "\n",
        "#predict on train\n",
        "train_preds3 = DT.predict(X_train)\n",
        "#accuracy on train\n",
        "print(\"Model accuracy on train is: \", accuracy_score(Y_train, train_preds3))\n",
        "\n",
        "#predict on test\n",
        "test_preds3 = DT.predict(X_test)\n",
        "#accuracy on test\n",
        "print(\"Model accuracy on test is: \", accuracy_score(Y_test, test_preds3))\n",
        "print('-'*50)\n",
        "\n",
        "#We got good accuracy which means our model is performing quite well\n",
        "#ROC\n",
        "print(\"ROC score on train is: \", roc_auc_score(Y_train, train_preds3))\n",
        "print(\"ROC score on test is: \", roc_auc_score(Y_test, test_preds3))\n",
        "print('-'*50)\n",
        "\n",
        "#Confusion matrix\n",
        "print(\"confusion_matrix train is: \", confusion_matrix(Y_train, train_preds3))\n",
        "print(\"confusion_matrix test is: \", confusion_matrix(Y_test, test_preds3))\n",
        "print('Wrong predictions out of total')\n",
        "print('-'*50)\n",
        "\n",
        "# Wrong Predictions made.\n",
        "print((Y_test !=test_preds3).sum(),'/',((Y_test == test_preds3).sum()+(Y_test != test_preds3).sum()))\n",
        "print('-'*50)\n",
        "\n",
        "# Kappa Score\n",
        "print('KappaScore is: ', metrics.cohen_kappa_score(Y_test,test_preds3))"
      ]
    },
    {
      "cell_type": "markdown",
      "metadata": {
        "id": "ozgLDU0htpPs"
      },
      "source": [
        "### Random Forest Classifier"
      ]
    },
    {
      "cell_type": "code",
      "execution_count": null,
      "metadata": {
        "id": "SFokb4detpPs",
        "outputId": "d53add48-05b5-41de-e4b6-5d4f3b14d2ce"
      },
      "outputs": [],
      "source": [
        "#fit the model on train data\n",
        "RF=RandomForestClassifier().fit(X_train,Y_train)\n",
        "#predict on train\n",
        "train_preds4 = RF.predict(X_train)\n",
        "#accuracy on train\n",
        "print(\"Model accuracy on train is: \", accuracy_score(Y_train, train_preds4))\n",
        "\n",
        "#predict on test\n",
        "test_preds4 = RF.predict(X_test)\n",
        "#accuracy on test\n",
        "print(\"Model accuracy on test is: \", accuracy_score(Y_test, test_preds4))\n",
        "print('-'*50)\n",
        "\n",
        "#We got good accuracy which means our model is performing quite well\n",
        "#ROC\n",
        "print(\"ROC score on train is: \", roc_auc_score(Y_train, train_preds4))\n",
        "print(\"ROC score on test is: \", roc_auc_score(Y_test, test_preds4))\n",
        "print('-'*50)\n",
        "\n",
        "#Confusion matrix\n",
        "print(\"confusion_matrix train is: \", confusion_matrix(Y_train, train_preds4))\n",
        "print(\"confusion_matrix test is: \", confusion_matrix(Y_test, test_preds4))\n",
        "print('Wrong predictions out of total')\n",
        "print('-'*50)\n",
        "\n",
        "# Wrong Predictions made.\n",
        "print((Y_test !=test_preds4).sum(),'/',((Y_test == test_preds4).sum()+(Y_test != test_preds4).sum()))\n",
        "print('-'*50)\n",
        "\n",
        "# Kappa Score\n",
        "print('KappaScore is: ', metrics.cohen_kappa_score(Y_test,test_preds4))"
      ]
    },
    {
      "cell_type": "markdown",
      "metadata": {
        "id": "TmGtDkFOtpPt"
      },
      "source": [
        "### K-Nearest Neighbours"
      ]
    },
    {
      "cell_type": "code",
      "execution_count": null,
      "metadata": {
        "id": "mcNvr_pltpPt",
        "outputId": "3459caa9-b605-4ab5-961e-de916b2ba35c"
      },
      "outputs": [],
      "source": [
        "#fit the model on train data\n",
        "KNN = KNeighborsClassifier().fit(X_train,Y_train)\n",
        "#predict on train\n",
        "train_preds5 = KNN.predict(X_train)\n",
        "#accuracy on train\n",
        "print(\"Model accuracy on train is: \", accuracy_score(Y_train, train_preds5))\n",
        "\n",
        "#predict on test\n",
        "test_preds5 = KNN.predict(X_test)\n",
        "#accuracy on test\n",
        "print(\"Model accuracy on test is: \", accuracy_score(Y_test, test_preds5))\n",
        "print('-'*50)\n",
        "\n",
        "#We got good accuracy which means our model is performing quite well\n",
        "#ROC\n",
        "print(\"ROC score on train is: \", roc_auc_score(Y_train, train_preds5))\n",
        "print(\"ROC score on test is: \", roc_auc_score(Y_test, test_preds5))\n",
        "print('-'*50)\n",
        "\n",
        "#Confusion matrix\n",
        "print(\"confusion_matrix train is: \", confusion_matrix(Y_train, train_preds5))\n",
        "print(\"confusion_matrix test is: \", confusion_matrix(Y_test, test_preds5))\n",
        "print('Wrong predictions out of total')\n",
        "print('-'*50)\n",
        "\n",
        "# Wrong Predictions made.\n",
        "print((Y_test !=test_preds5).sum(),'/',((Y_test == test_preds5).sum()+(Y_test != test_preds5).sum()))\n",
        "\n",
        "print('-'*50)\n",
        "\n",
        "# Kappa Score\n",
        "print('KappaScore is: ', metrics.cohen_kappa_score(Y_test,test_preds5))"
      ]
    },
    {
      "cell_type": "markdown",
      "metadata": {
        "id": "Jyq4emEitpPt"
      },
      "source": [
        "### Support Vector Machine"
      ]
    },
    {
      "cell_type": "code",
      "execution_count": null,
      "metadata": {
        "id": "nnC3LEp_tpPt",
        "outputId": "dbe1107c-df34-4026-8883-b7bffe122689"
      },
      "outputs": [],
      "source": [
        "#fit the model on train data\n",
        "SVM = SVC(kernel='linear')\n",
        "SVM.fit(X_train, Y_train)\n",
        "\n",
        "#predict on train\n",
        "train_preds6 = SVM.predict(X_train)\n",
        "#accuracy on train\n",
        "print(\"Model accuracy on train is: \", accuracy_score(Y_train, train_preds6))\n",
        "\n",
        "#predict on test\n",
        "test_preds6 = SVM.predict(X_test)\n",
        "#accuracy on test\n",
        "print(\"Model accuracy on test is: \", accuracy_score(Y_test, test_preds6))\n",
        "print('-'*50)\n",
        "\n",
        "#We got good accuracy which means our model is performing quite well\n",
        "#ROC\n",
        "print(\"ROC score on train is: \", roc_auc_score(Y_train, train_preds6))\n",
        "print(\"ROC score on test is: \", roc_auc_score(Y_test, test_preds6))\n",
        "print('-'*50)\n",
        "\n",
        "#Confusion matrix\n",
        "print(\"confusion_matrix train is: \", confusion_matrix(Y_train, train_preds6))\n",
        "print(\"confusion_matrix test is: \", confusion_matrix(Y_test, test_preds6))\n",
        "print('Wrong predictions out of total')\n",
        "print('-'*50)\n",
        "\n",
        "print(\"recall\", metrics.recall_score(Y_test, test_preds6))\n",
        "print('-'*50)\n",
        "\n",
        "# Wrong Predictions made.\n",
        "print((Y_test !=test_preds6).sum(),'/',((Y_test == test_preds6).sum()+(Y_test != test_preds6).sum()))\n",
        "print('-'*50)\n",
        "\n",
        "# Kappa Score\n",
        "print('KappaScore is: ', metrics.cohen_kappa_score(Y_test,test_preds6))"
      ]
    },
    {
      "cell_type": "markdown",
      "metadata": {
        "id": "euYHcyqvtpPu"
      },
      "source": [
        "### XG-Boost Classifier"
      ]
    },
    {
      "cell_type": "code",
      "execution_count": null,
      "metadata": {
        "id": "nQK20YHRtpPv",
        "outputId": "68e546e6-d432-473b-93da-24fbd0af884f"
      },
      "outputs": [],
      "source": [
        "xgbr =xgb.XGBClassifier().fit(X_train, Y_train)\n",
        "\n",
        "#predict on train\n",
        "train_preds7 = xgbr.predict(X_train)\n",
        "#accuracy on train\n",
        "print(\"Model accuracy on train is: \", accuracy_score(Y_train, train_preds7))\n",
        "\n",
        "#predict on test\n",
        "test_preds7 = xgbr.predict(X_test)\n",
        "#accuracy on test\n",
        "print(\"Model accuracy on test is: \", accuracy_score(Y_test, test_preds7))\n",
        "print('-'*50)\n",
        "\n",
        "#We got good accuracy which means our model is performing quite well\n",
        "#ROC\n",
        "print(\"ROC score on train is: \", roc_auc_score(Y_train, train_preds7))\n",
        "print(\"ROC score on test is: \", roc_auc_score(Y_test, test_preds7))\n",
        "print('-'*50)\n",
        "\n",
        "#Confusion matrix\n",
        "print(\"confusion_matrix train is: \", confusion_matrix(Y_train, train_preds7))\n",
        "print(\"confusion_matrix test is: \", confusion_matrix(Y_test, test_preds7))\n",
        "print('Wrong predictions out of total')\n",
        "print('-'*50)\n",
        "\n",
        "print(\"recall\", metrics.recall_score(Y_test, test_preds7))\n",
        "print('-'*50)\n",
        "\n",
        "# Wrong Predictions made.\n",
        "print((Y_test !=test_preds7).sum(),'/',((Y_test == test_preds7).sum()+(Y_test != test_preds7).sum()))\n",
        "print('-'*50)\n",
        "\n",
        "# Kappa Score\n",
        "print('KappaScore is: ', metrics.cohen_kappa_score(Y_test,test_preds7))"
      ]
    },
    {
      "cell_type": "code",
      "execution_count": null,
      "metadata": {
        "id": "xeM6aTdztpPv"
      },
      "outputs": [],
      "source": [
        "# Random Forest Classifier and Xg-boost Regressor model performed well compared to other models"
      ]
    },
    {
      "cell_type": "markdown",
      "metadata": {
        "id": "R6Tw_cWZtpPw"
      },
      "source": [
        "# Hyper Parameter Tuning"
      ]
    },
    {
      "cell_type": "code",
      "execution_count": null,
      "metadata": {
        "id": "8N6eY_hrtpPw",
        "outputId": "d3f0633e-85cd-46d4-aabf-b3b399f5531e"
      },
      "outputs": [],
      "source": [
        "#fit the model on train data\n",
        "RFT=RandomForestClassifier(n_estimators=500,min_samples_split=2,min_samples_leaf=1,max_features='sqrt',random_state=235,verbose=2,max_samples=50).fit(X_train,Y_train)\n",
        "#predict on train\n",
        "train_preds8 = RFT.predict(X_train)\n",
        "#accuracy on train\n",
        "print(\"Model accuracy on train is: \", accuracy_score(Y_train, train_preds8))\n",
        "\n",
        "#predict on test\n",
        "test_preds8 = RFT.predict(X_test)\n",
        "#accuracy on test\n",
        "print(\"Model accuracy on test is: \", accuracy_score(Y_test, test_preds8))\n",
        "print('-'*50)\n",
        "\n",
        "#We got good accuracy which means our model is performing quite well\n",
        "#ROC\n",
        "print(\"ROC score on train is: \", roc_auc_score(Y_train, train_preds8))\n",
        "print(\"ROC score on test is: \", roc_auc_score(Y_test, test_preds8))\n",
        "print('-'*50)\n",
        "\n",
        "#Confusion matrix\n",
        "print(\"confusion_matrix train is: \", confusion_matrix(Y_train, train_preds8))\n",
        "print(\"confusion_matrix test is: \", confusion_matrix(Y_test, test_preds8))\n",
        "print('Wrong predictions out of total')\n",
        "print('-'*50)\n",
        "\n",
        "# Wrong Predictions made.\n",
        "print((Y_test !=test_preds8).sum(),'/',((Y_test == test_preds8).sum()+(Y_test != test_preds8).sum()))\n",
        "print('-'*50)\n",
        "\n",
        "# Kappa Score\n",
        "print('KappaScore is: ', metrics.cohen_kappa_score(Y_test,test_preds8))"
      ]
    },
    {
      "cell_type": "markdown",
      "metadata": {
        "id": "ztDXzwOStpPw"
      },
      "source": [
        "### A. RandomSearchCv"
      ]
    },
    {
      "cell_type": "code",
      "execution_count": null,
      "metadata": {
        "id": "X1pooLJOtpPw"
      },
      "outputs": [],
      "source": [
        "from sklearn.model_selection import RandomizedSearchCV"
      ]
    },
    {
      "cell_type": "code",
      "execution_count": null,
      "metadata": {
        "id": "KhXkzcR3tpPx"
      },
      "outputs": [],
      "source": [
        "# Number of trees in random forest\n",
        "n_estimators = [int(x) for x in np.linspace(start = 100, stop = 5000, num = 10)]\n",
        "# Number of features to consider at every split\n",
        "max_features = ['auto', 'sqrt','log2']\n",
        "# Maximum number of levels in tree\n",
        "max_depth = [int(x) for x in np.linspace(10, 2000,10)]\n",
        "# Minimum number of samples required to split a node\n",
        "min_samples_split = [2, 5, 10,14]\n",
        "# Minimum number of samples required at each leaf node\n",
        "min_samples_leaf = [1, 2, 4,6,8]\n",
        "# Create the random grid\n",
        "random_grid = {'n_estimators': n_estimators,\n",
        "               'max_features': max_features,\n",
        "               'max_depth': max_depth,\n",
        "               'min_samples_split': min_samples_split,\n",
        "               'min_samples_leaf': min_samples_leaf,\n",
        "              'criterion':['entropy','gini']}\n",
        "print(random_grid)"
      ]
    },
    {
      "cell_type": "code",
      "execution_count": null,
      "metadata": {
        "id": "jmfcihvctpPx"
      },
      "outputs": [],
      "source": [
        "RFT1=RandomForestClassifier()\n",
        "rf_randomcv=RandomizedSearchCV(estimator=RFT1,param_distributions=random_grid,n_iter=100,cv=5,verbose=2,\n",
        "                               random_state=100,n_jobs=-1)\n",
        "### fit the randomized model\n",
        "rf_randomcv.fit(X_train,Y_train)\n",
        "rf_randomcv.best_params_"
      ]
    },
    {
      "cell_type": "code",
      "execution_count": null,
      "metadata": {
        "id": "ytVYbniWtpPx"
      },
      "outputs": [],
      "source": [
        "#rf_randomcv.best_params_\n",
        "# best parameters"
      ]
    },
    {
      "cell_type": "code",
      "execution_count": null,
      "metadata": {
        "id": "0SN3j9UetpPy"
      },
      "outputs": [],
      "source": [
        "rf_randomcv\n",
        "# displaying all parameters"
      ]
    },
    {
      "cell_type": "code",
      "execution_count": null,
      "metadata": {
        "id": "podYNdlZtpPy",
        "outputId": "f3455306-dae6-46be-d1bc-7e02affcf2fe"
      },
      "outputs": [],
      "source": [
        "rf_randomcv.best_estimator_\n",
        "# Displaying best parameters from all parameters mentioned above"
      ]
    },
    {
      "cell_type": "code",
      "execution_count": null,
      "metadata": {
        "id": "yjB4Yo4vtpPy"
      },
      "outputs": [],
      "source": [
        "best_random_grid=rf_randomcv.best_estimator_\n",
        "# saving all parameters in best_random_grid"
      ]
    },
    {
      "cell_type": "code",
      "execution_count": null,
      "metadata": {
        "id": "T6u9uhNFtpPz",
        "outputId": "24720077-5489-44ed-ce1c-5fd65c0dd3d0"
      },
      "outputs": [],
      "source": [
        "Y_pred=best_random_grid.predict(X_test)\n",
        "\n",
        "print(confusion_matrix(Y_test,Y_pred))\n",
        "print(\"Accuracy Score {}\".format(accuracy_score(Y_test,Y_pred)))\n",
        "\n",
        "# Wrong Predictions made.\n",
        "print((Y_test !=Y_pred).sum(),'/',((Y_test == Y_pred).sum()+(Y_test != Y_pred).sum()))\n",
        "print('-'*50)\n",
        "\n",
        "# Kappa Score\n",
        "print('KappaScore is: ', metrics.cohen_kappa_score(Y_test,Y_pred))\n",
        "# predicting the randomised search cv models parameters and evaluating the random forest model using evaluation metrics"
      ]
    },
    {
      "cell_type": "markdown",
      "metadata": {
        "id": "suASoRK8tpPz"
      },
      "source": [
        "### B. GridSearchCv"
      ]
    },
    {
      "cell_type": "code",
      "execution_count": null,
      "metadata": {
        "id": "AJ7QcYiktpPz"
      },
      "outputs": [],
      "source": [
        "from sklearn.model_selection import GridSearchCV\n",
        "# Using grid search cv model"
      ]
    },
    {
      "cell_type": "code",
      "execution_count": null,
      "metadata": {
        "id": "yBJ7PIJ8tpPz",
        "outputId": "292945d0-bab8-4277-a817-7800371b9aab"
      },
      "outputs": [],
      "source": [
        "rf_randomcv.best_params_\n",
        "# Visualizing the best parameters of random cv"
      ]
    },
    {
      "cell_type": "code",
      "execution_count": null,
      "metadata": {
        "id": "icWQIn0NtpP0",
        "outputId": "1f0c9a37-c7af-4c95-c85d-fa9ae61d5f6a"
      },
      "outputs": [],
      "source": [
        "param_grid = {\n",
        "    'criterion': [rf_randomcv.best_params_['criterion']],\n",
        "    'max_depth': [rf_randomcv.best_params_['max_depth']],\n",
        "    'max_features': [rf_randomcv.best_params_['max_features']],\n",
        "    'min_samples_leaf': [rf_randomcv.best_params_['min_samples_leaf'],\n",
        "                         rf_randomcv.best_params_['min_samples_leaf']+2,\n",
        "                         rf_randomcv.best_params_['min_samples_leaf'] + 4],\n",
        "    'min_samples_split': [rf_randomcv.best_params_['min_samples_split'] - 2,\n",
        "                          rf_randomcv.best_params_['min_samples_split'] - 1,\n",
        "                          rf_randomcv.best_params_['min_samples_split'],\n",
        "                          rf_randomcv.best_params_['min_samples_split'] +1,\n",
        "                          rf_randomcv.best_params_['min_samples_split'] + 2],\n",
        "    'n_estimators': [rf_randomcv.best_params_['n_estimators'] - 200, rf_randomcv.best_params_['n_estimators'] - 100,\n",
        "                     rf_randomcv.best_params_['n_estimators'],\n",
        "                     rf_randomcv.best_params_['n_estimators'] + 100, rf_randomcv.best_params_['n_estimators'] + 200]\n",
        "}\n",
        "\n",
        "print(param_grid)\n",
        "# creating a param_grid"
      ]
    },
    {
      "cell_type": "code",
      "execution_count": null,
      "metadata": {
        "id": "MNZbLuvgtpP0",
        "outputId": "a07e243f-f970-4181-eb79-416ef4ec590c"
      },
      "outputs": [],
      "source": [
        "rf=RandomForestClassifier()\n",
        "grid_search=GridSearchCV(estimator=rf,param_grid=param_grid,cv=10,n_jobs=-1,verbose=2)\n",
        "grid_search.fit(X_train,Y_train)\n",
        "# Fitting the grid_search to the data"
      ]
    },
    {
      "cell_type": "code",
      "execution_count": null,
      "metadata": {
        "id": "eLGqe8PPtpP0",
        "outputId": "d07f330d-1ed8-4170-f4cd-c434b5bf42d4"
      },
      "outputs": [],
      "source": [
        "grid_search.best_estimator_\n",
        "# best parameters of grid search"
      ]
    },
    {
      "cell_type": "code",
      "execution_count": null,
      "metadata": {
        "id": "AXDjV3ZGtpP1"
      },
      "outputs": [],
      "source": [
        "best_grid=grid_search.best_estimator_\n",
        "# saving the parameters in best_grid"
      ]
    },
    {
      "cell_type": "code",
      "execution_count": null,
      "metadata": {
        "id": "StSSdYKqtpP1",
        "outputId": "c92d993f-5235-447a-cad3-40edd78b2461"
      },
      "outputs": [],
      "source": [
        "best_grid\n",
        "# Displaying best_grid"
      ]
    },
    {
      "cell_type": "code",
      "execution_count": null,
      "metadata": {
        "id": "5ZjovreFtpP1",
        "outputId": "b11756e5-9ba0-4f9c-bc90-953c8dbefee8"
      },
      "outputs": [],
      "source": [
        "y_pred=best_grid.predict(X_test)\n",
        "print(confusion_matrix(Y_test,y_pred))\n",
        "print(\"Accuracy Score {}\".format(accuracy_score(Y_test,y_pred)))\n",
        "\n",
        "# Wrong Predictions made.\n",
        "print((Y_test !=y_pred).sum(),'/',((Y_test == y_pred).sum()+(Y_test != y_pred).sum()))\n",
        "print('-'*50)\n",
        "\n",
        "# Kappa Score\n",
        "print('KappaScore is: ', metrics.cohen_kappa_score(Y_test,y_pred))\n",
        "# Predicting the grid search cv on random forest model"
      ]
    },
    {
      "cell_type": "markdown",
      "metadata": {
        "id": "3WgZDOj1tpP2"
      },
      "source": [
        "#### The decision tree model showed us overfitting problem.\n",
        "#### Hence the randomised search cv on random forest classifier gave us better accuracy which is 87 percent and wrong predictions made by the model are 243/2000 and grid search cv gave us 87 percent accuracy and wrong predictions are 246/2000."
      ]
    }
  ],
  "metadata": {
    "colab": {
      "provenance": []
    },
    "kernelspec": {
      "display_name": "Python 3 (ipykernel)",
      "language": "python",
      "name": "python3"
    },
    "language_info": {
      "codemirror_mode": {
        "name": "ipython",
        "version": 3
      },
      "file_extension": ".py",
      "mimetype": "text/x-python",
      "name": "python",
      "nbconvert_exporter": "python",
      "pygments_lexer": "ipython3",
      "version": "3.11.7"
    }
  },
  "nbformat": 4,
  "nbformat_minor": 0
}
