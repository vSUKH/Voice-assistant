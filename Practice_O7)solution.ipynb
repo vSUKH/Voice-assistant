{
 "cells": [
  {
   "cell_type": "code",
   "execution_count": 1,
   "metadata": {},
   "outputs": [
    {
     "name": "stdout",
     "output_type": "stream",
     "text": [
      "Diamond Pattren:\n",
      "                    * \n",
      "                  * * * \n",
      "                * * * * * \n",
      "              * * * * * * * \n",
      "            * * * * * * * * * \n",
      "          * * * * * * * * * * * \n",
      "        * * * * * * * * * * * * * \n",
      "      * * * * * * * * * * * * * * * \n",
      "    * * * * * * * * * * * * * * * * * \n",
      "  * * * * * * * * * * * * * * * * * * * \n",
      "    * * * * * * * * * * * * * * * * * \n",
      "      * * * * * * * * * * * * * * * \n",
      "        * * * * * * * * * * * * * \n",
      "          * * * * * * * * * * * \n",
      "            * * * * * * * * * \n",
      "              * * * * * * * \n",
      "                * * * * * \n",
      "                  * * * \n",
      "                    * \n"
     ]
    }
   ],
   "source": [
    "print(\"Diamond Pattren:\")\n",
    "num = int(input(\"Enter the numbers\"))\n",
    "for i in range(num-1):\n",
    "    for j in range(i,num):\n",
    "        print(\" \",end = \" \")\n",
    "    for j in range(i):\n",
    "        print(\"*\",end = \" \")\n",
    "    for j in range(i+1):\n",
    "        print(\"*\",end = \" \")\n",
    "\n",
    "    print()\n",
    " \n",
    "for i in range(num):\n",
    "    for j in range(i+1):\n",
    "        print(\" \",end = \" \")\n",
    "    for j in range(i,num-1):\n",
    "        print(\"*\",end = \" \")\n",
    "    for j in range(i,num):\n",
    "        print(\"*\",end = \" \")    \n",
    "    print()    "
   ]
  },
  {
   "cell_type": "code",
   "execution_count": 2,
   "metadata": {},
   "outputs": [
    {
     "name": "stdout",
     "output_type": "stream",
     "text": [
      "          * \n",
      "        * * * \n",
      "      * * * * * \n",
      "    * * * * * * * \n",
      "  * * * * * * * * * \n"
     ]
    }
   ],
   "source": [
    "num = 5\n",
    "for i in range(num):\n",
    "    for j in range(i,num):\n",
    "        print(\" \",end = \" \")\n",
    "    for j in range(i):\n",
    "        print(\"*\",end = \" \")\n",
    "    for j in range(i+1):\n",
    "        print(\"*\",end = \" \")\n",
    "\n",
    "    print()"
   ]
  },
  {
   "cell_type": "code",
   "execution_count": null,
   "metadata": {},
   "outputs": [],
   "source": []
  }
 ],
 "metadata": {
  "kernelspec": {
   "display_name": "Python 3",
   "language": "python",
   "name": "python3"
  },
  "language_info": {
   "codemirror_mode": {
    "name": "ipython",
    "version": 3
   },
   "file_extension": ".py",
   "mimetype": "text/x-python",
   "name": "python",
   "nbconvert_exporter": "python",
   "pygments_lexer": "ipython3",
   "version": "3.10.0"
  }
 },
 "nbformat": 4,
 "nbformat_minor": 2
}
