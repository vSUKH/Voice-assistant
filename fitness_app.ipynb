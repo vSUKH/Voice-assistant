{
 "cells": [
  {
   "cell_type": "code",
   "execution_count": 24,
   "metadata": {},
   "outputs": [],
   "source": [
    "import pandas as pd\n",
    "from sklearn.preprocessing import LabelEncoder, StandardScaler\n",
    "from sklearn.model_selection import train_test_split, GridSearchCV\n",
    "from sklearn.neighbors import KNeighborsClassifier\n",
    "from sklearn.metrics import accuracy_score, classification_report\n",
    "import joblib  # For saving the model and preprocessing components\n"
   ]
  },
  {
   "cell_type": "code",
   "execution_count": 25,
   "metadata": {},
   "outputs": [],
   "source": [
    "\n",
    "# Load the dataset\n",
    "file_path = 'gym_recommendation.xlsx'\n",
    "data = pd.ExcelFile(file_path)\n",
    "df = data.parse('Sheet1')\n"
   ]
  },
  {
   "cell_type": "code",
   "execution_count": 26,
   "metadata": {},
   "outputs": [],
   "source": [
    "\n",
    "# Data Preprocessing\n",
    "df_preprocessed = df.copy()\n",
    "\n",
    "# Encode categorical columns\n",
    "categorical_columns = ['Sex', 'Hypertension', 'Diabetes', 'Level', 'Fitness Goal', 'Fitness Type']\n",
    "label_encoders = {col: LabelEncoder() for col in categorical_columns}\n",
    "\n",
    "for col in categorical_columns:\n",
    "    df_preprocessed[col] = label_encoders[col].fit_transform(df_preprocessed[col])\n"
   ]
  },
  {
   "cell_type": "code",
   "execution_count": 27,
   "metadata": {},
   "outputs": [],
   "source": [
    "\n",
    "# Drop irrelevant columns (e.g., ID) and separate features and target\n",
    "features = df_preprocessed.drop(columns=['ID', 'Exercises'])\n",
    "target = df_preprocessed['Exercises']\n",
    "\n",
    "# Scale features\n",
    "scaler = StandardScaler()\n",
    "features_scaled = scaler.fit_transform(features)\n",
    "\n",
    "# Split the dataset into training and testing sets\n",
    "X_train, X_test, y_train, y_test = train_test_split(features_scaled, target, test_size=0.2, random_state=42, stratify=target)\n"
   ]
  },
  {
   "cell_type": "code",
   "execution_count": 28,
   "metadata": {},
   "outputs": [
    {
     "name": "stdout",
     "output_type": "stream",
     "text": [
      "Fitting 5 folds for each of 30 candidates, totalling 150 fits\n"
     ]
    }
   ],
   "source": [
    "\n",
    "# Hyperparameter tuning using GridSearchCV\n",
    "param_grid = {\n",
    "    'n_neighbors': [3, 5, 7, 9, 11],\n",
    "    'weights': ['uniform', 'distance'],\n",
    "    'metric': ['euclidean', 'manhattan', 'chebyshev']\n",
    "}\n",
    "\n",
    "knn_model = KNeighborsClassifier()\n",
    "\n",
    "# Grid search for optimal parameters\n",
    "grid_search = GridSearchCV(knn_model, param_grid, cv=5, n_jobs=-1, verbose=1)\n",
    "grid_search.fit(X_train, y_train)\n",
    "\n",
    "# Get the best model from grid search\n",
    "best_knn_model = grid_search.best_estimator_\n",
    "\n",
    "# Predict on the test set using the best model\n",
    "y_pred = best_knn_model.predict(X_test)\n",
    "\n",
    "\n"
   ]
  },
  {
   "cell_type": "code",
   "execution_count": 29,
   "metadata": {},
   "outputs": [
    {
     "name": "stdout",
     "output_type": "stream",
     "text": [
      "Best KNN Model Parameters: {'metric': 'manhattan', 'n_neighbors': 5, 'weights': 'uniform'}\n",
      "KNN Model Accuracy: 0.997943797121316\n",
      "\n",
      "Classification Report:\n",
      "                                                               precision    recall  f1-score   support\n",
      "\n",
      "     Brisk walking, cycling, swimming, running , or dancing.       1.00      1.00      1.00       841\n",
      "      Squats, deadlifts, bench presses, and overhead presses       1.00      1.00      1.00       727\n",
      "Squats, yoga, deadlifts, bench presses, and overhead presses       1.00      1.00      1.00       675\n",
      "                                    Walking, Yoga, Swimming.       1.00      1.00      1.00       338\n",
      "               brisk walking, cycling, swimming, or dancing.       1.00      1.00      1.00       337\n",
      "\n",
      "                                                    accuracy                           1.00      2918\n",
      "                                                   macro avg       1.00      1.00      1.00      2918\n",
      "                                                weighted avg       1.00      1.00      1.00      2918\n",
      "\n",
      "Model, scaler, and label encoders saved successfully!\n"
     ]
    }
   ],
   "source": [
    "# Evaluate the model\n",
    "accuracy = accuracy_score(y_test, y_pred)\n",
    "classification_report_text = classification_report(y_test, y_pred)\n",
    "\n",
    "# Print the evaluation results\n",
    "print(\"Best KNN Model Parameters:\", grid_search.best_params_)\n",
    "print(\"KNN Model Accuracy:\", accuracy)\n",
    "print(\"\\nClassification Report:\\n\", classification_report_text)\n",
    "\n",
    "# Save the model, scaler, and label encoders\n",
    "joblib.dump(best_knn_model, 'knn_model.pkl')\n",
    "joblib.dump(scaler, 'scaler.pkl')\n",
    "joblib.dump(label_encoders, 'label_encoders.pkl')\n",
    "\n",
    "print(\"Model, scaler, and label encoders saved successfully!\")"
   ]
  },
  {
   "cell_type": "code",
   "execution_count": null,
   "metadata": {},
   "outputs": [],
   "source": []
  },
  {
   "cell_type": "code",
   "execution_count": null,
   "metadata": {},
   "outputs": [],
   "source": []
  },
  {
   "cell_type": "code",
   "execution_count": 3,
   "metadata": {},
   "outputs": [
    {
     "name": "stdout",
     "output_type": "stream",
     "text": [
      "Fitting 5 folds for each of 30 candidates, totalling 150 fits\n",
      "Best KNN Model Parameters: {'metric': 'manhattan', 'n_neighbors': 5, 'weights': 'uniform'}\n",
      "KNN Model Accuracy: 0.997943797121316\n",
      "\n",
      "Classification Report:\n",
      "                                                               precision    recall  f1-score   support\n",
      "\n",
      "     Brisk walking, cycling, swimming, running , or dancing.       1.00      1.00      1.00       841\n",
      "      Squats, deadlifts, bench presses, and overhead presses       1.00      1.00      1.00       727\n",
      "Squats, yoga, deadlifts, bench presses, and overhead presses       1.00      1.00      1.00       675\n",
      "                                    Walking, Yoga, Swimming.       1.00      1.00      1.00       338\n",
      "               brisk walking, cycling, swimming, or dancing.       1.00      1.00      1.00       337\n",
      "\n",
      "                                                    accuracy                           1.00      2918\n",
      "                                                   macro avg       1.00      1.00      1.00      2918\n",
      "                                                weighted avg       1.00      1.00      1.00      2918\n",
      "\n",
      "Model, scaler, label encoders, and feature names saved successfully!\n"
     ]
    }
   ],
   "source": [
    "import pandas as pd\n",
    "from sklearn.preprocessing import LabelEncoder, StandardScaler\n",
    "from sklearn.model_selection import train_test_split, GridSearchCV\n",
    "from sklearn.neighbors import KNeighborsClassifier\n",
    "from sklearn.metrics import accuracy_score, classification_report\n",
    "import joblib  # For saving the model and preprocessing components\n",
    "\n",
    "# Load the dataset\n",
    "file_path = 'gym_recommendation.xlsx'\n",
    "data = pd.ExcelFile(file_path)\n",
    "df = data.parse('Sheet1')\n",
    "\n",
    "# Data Preprocessing\n",
    "df_preprocessed = df.copy()\n",
    "\n",
    "# Encode categorical columns\n",
    "categorical_columns = ['Sex', 'Hypertension', 'Diabetes', 'Level', 'Fitness Goal', 'Fitness Type']\n",
    "label_encoders = {col: LabelEncoder() for col in categorical_columns}\n",
    "\n",
    "for col in categorical_columns:\n",
    "    df_preprocessed[col] = label_encoders[col].fit_transform(df_preprocessed[col])\n",
    "\n",
    "# Drop irrelevant columns (e.g., ID) and separate features and target\n",
    "features = df_preprocessed.drop(columns=['ID', 'Exercises'])\n",
    "target = df_preprocessed['Exercises']\n",
    "\n",
    "# Save feature names to ensure correct order during prediction\n",
    "joblib.dump(features.columns.tolist(), 'feature_names.pkl')\n",
    "\n",
    "# Scale features\n",
    "scaler = StandardScaler()\n",
    "features_scaled = scaler.fit_transform(features)\n",
    "\n",
    "# Split the dataset into training and testing sets\n",
    "X_train, X_test, y_train, y_test = train_test_split(features_scaled, target, test_size=0.2, random_state=42, stratify=target)\n",
    "\n",
    "# Hyperparameter tuning using GridSearchCV\n",
    "param_grid = {\n",
    "    'n_neighbors': [3, 5, 7, 9, 11],\n",
    "    'weights': ['uniform', 'distance'],\n",
    "    'metric': ['euclidean', 'manhattan', 'chebyshev']\n",
    "}\n",
    "\n",
    "knn_model = KNeighborsClassifier()\n",
    "\n",
    "# Grid search for optimal parameters\n",
    "grid_search = GridSearchCV(knn_model, param_grid, cv=5, n_jobs=-1, verbose=1)\n",
    "grid_search.fit(X_train, y_train)\n",
    "\n",
    "# Get the best model from grid search\n",
    "best_knn_model = grid_search.best_estimator_\n",
    "\n",
    "# Predict on the test set using the best model\n",
    "y_pred = best_knn_model.predict(X_test)\n",
    "\n",
    "# Evaluate the model\n",
    "accuracy = accuracy_score(y_test, y_pred)\n",
    "classification_report_text = classification_report(y_test, y_pred)\n",
    "\n",
    "# Print the evaluation results\n",
    "print(\"Best KNN Model Parameters:\", grid_search.best_params_)\n",
    "print(\"KNN Model Accuracy:\", accuracy)\n",
    "print(\"\\nClassification Report:\\n\", classification_report_text)\n",
    "\n",
    "# Save the model, scaler, label encoders, and feature names\n",
    "joblib.dump(best_knn_model, 'knn_model.pkl')\n",
    "joblib.dump(scaler, 'scaler.pkl')\n",
    "joblib.dump(label_encoders, 'label_encoders.pkl')\n",
    "\n",
    "print(\"Model, scaler, label encoders, and feature names saved successfully!\")\n"
   ]
  },
  {
   "cell_type": "code",
   "execution_count": null,
   "metadata": {},
   "outputs": [],
   "source": []
  }
 ],
 "metadata": {
  "kernelspec": {
   "display_name": "Python 3",
   "language": "python",
   "name": "python3"
  },
  "language_info": {
   "codemirror_mode": {
    "name": "ipython",
    "version": 3
   },
   "file_extension": ".py",
   "mimetype": "text/x-python",
   "name": "python",
   "nbconvert_exporter": "python",
   "pygments_lexer": "ipython3",
   "version": "3.12.8"
  }
 },
 "nbformat": 4,
 "nbformat_minor": 2
}
