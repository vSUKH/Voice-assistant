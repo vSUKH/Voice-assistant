{
 "cells": [
  {
   "cell_type": "code",
   "execution_count": 1,
   "metadata": {},
   "outputs": [],
   "source": [
    "# list methods:\n",
    "# remove\n",
    "# extend\n",
    "# append\n",
    "# pop\n",
    "# reverse the list\n",
    "# clear\n",
    "# return the index of a particular element\n",
    "# sort (both ascending and descending)\n",
    "# copy\n",
    "# min\n",
    "# max\n",
    "# sum"
   ]
  },
  {
   "cell_type": "code",
   "execution_count": 2,
   "metadata": {},
   "outputs": [
    {
     "name": "stdout",
     "output_type": "stream",
     "text": [
      "[2, 3, 5, 51, 25, 3, 4, 3, 4, 3, 6, 7, 89, 91, 97]\n"
     ]
    }
   ],
   "source": [
    "list1=[2,3,4,5,51,25,3,4,3,4,3,6,7,89,91,97]\n",
    "#1. remove\n",
    "list1.remove(4)\n",
    "print(list1)"
   ]
  },
  {
   "cell_type": "code",
   "execution_count": 3,
   "metadata": {},
   "outputs": [
    {
     "name": "stdout",
     "output_type": "stream",
     "text": [
      "[2, 3, 5, 51, 25, 3, 4, 3, 4, 3, 6, 7, 89, 91, 97, 1000, 2000]\n",
      "[1000, 2000]\n"
     ]
    }
   ],
   "source": [
    "#2.extend\n",
    "list2=[1000,2000]\n",
    "list1.extend(list2)\n",
    "print(list1)\n",
    "print(list2)"
   ]
  },
  {
   "cell_type": "code",
   "execution_count": 4,
   "metadata": {},
   "outputs": [
    {
     "name": "stdout",
     "output_type": "stream",
     "text": [
      "[2, 3, 5, 51, 25, 3, 4, 3, 4, 3, 6, 7, 89, 91, 97, 1000, 2000, 1500]\n"
     ]
    }
   ],
   "source": [
    "#3.Append\n",
    "list1.append(1500)\n",
    "print(list1)\n",
    "\n"
   ]
  },
  {
   "cell_type": "code",
   "execution_count": 5,
   "metadata": {},
   "outputs": [
    {
     "name": "stdout",
     "output_type": "stream",
     "text": [
      "[2, 3, 5, 51, 25, 3, 4, 3, 4, 3, 6, 7, 89, 91, 97, 1000, 2000]\n"
     ]
    }
   ],
   "source": [
    "# 4.pop\n",
    "list1.pop()\n",
    "print(list1)\n"
   ]
  },
  {
   "cell_type": "code",
   "execution_count": 6,
   "metadata": {},
   "outputs": [
    {
     "name": "stdout",
     "output_type": "stream",
     "text": [
      "[2, 3, 5, 51, 25, 3, 4, 3, 4, 3, 6, 7, 89, 91, 97, 1000, 2000]\n"
     ]
    }
   ],
   "source": [
    "#5. Reverse\n",
    "list1[::-1]\n",
    "print(list1)\n"
   ]
  },
  {
   "cell_type": "code",
   "execution_count": 7,
   "metadata": {},
   "outputs": [],
   "source": [
    "#6. return the index of a particular element\n",
    "key=int(input(\"enter the element you e=want to get index\"))\n",
    "print(list1.index(key))\n"
   ]
  },
  {
   "cell_type": "code",
   "execution_count": null,
   "metadata": {},
   "outputs": [
    {
     "name": "stdout",
     "output_type": "stream",
     "text": [
      "[2, 3, 3, 3, 3, 4, 4, 5, 6, 7, 25, 51, 89, 91, 97, 1000, 2000]\n",
      "[2000, 1000, 97, 91, 89, 51, 25, 7, 6, 5, 4, 4, 3, 3, 3, 3, 2]\n"
     ]
    }
   ],
   "source": [
    "#7 sort (both ascending and descending\n",
    "list1.sort()\n",
    "print(list1)\n",
    "list1.sort(reverse=True)\n",
    "print(list1)"
   ]
  },
  {
   "cell_type": "code",
   "execution_count": null,
   "metadata": {},
   "outputs": [
    {
     "name": "stdout",
     "output_type": "stream",
     "text": [
      "[2000, 1000, 97, 91, 89, 51, 25, 7, 6, 5, 4, 4, 3, 3, 3, 3, 2]\n"
     ]
    }
   ],
   "source": [
    "#8.copy\n",
    "list3=list1.copy()\n",
    "print(list3)"
   ]
  },
  {
   "cell_type": "code",
   "execution_count": null,
   "metadata": {},
   "outputs": [
    {
     "name": "stdout",
     "output_type": "stream",
     "text": [
      "2\n"
     ]
    }
   ],
   "source": [
    "# 9. min()\n",
    "print(min(list1))"
   ]
  },
  {
   "cell_type": "code",
   "execution_count": null,
   "metadata": {},
   "outputs": [
    {
     "name": "stdout",
     "output_type": "stream",
     "text": [
      "2000\n"
     ]
    }
   ],
   "source": [
    "# 10. max()\n",
    "print(max(list1))\n"
   ]
  },
  {
   "cell_type": "code",
   "execution_count": null,
   "metadata": {},
   "outputs": [
    {
     "name": "stdout",
     "output_type": "stream",
     "text": [
      "3393\n"
     ]
    }
   ],
   "source": [
    "# 11. sum()\n",
    "print(sum(list1))"
   ]
  },
  {
   "cell_type": "code",
   "execution_count": null,
   "metadata": {},
   "outputs": [
    {
     "name": "stdout",
     "output_type": "stream",
     "text": [
      "[]\n"
     ]
    }
   ],
   "source": [
    "# 12. CLEAR\n",
    "list1.clear()\n",
    "print(list1)"
   ]
  }
 ],
 "metadata": {
  "kernelspec": {
   "display_name": "Python 3",
   "language": "python",
   "name": "python3"
  },
  "language_info": {
   "codemirror_mode": {
    "name": "ipython",
    "version": 3
   },
   "file_extension": ".py",
   "mimetype": "text/x-python",
   "name": "python",
   "nbconvert_exporter": "python",
   "pygments_lexer": "ipython3",
   "version": "3.12.3"
  }
 },
 "nbformat": 4,
 "nbformat_minor": 2
}
